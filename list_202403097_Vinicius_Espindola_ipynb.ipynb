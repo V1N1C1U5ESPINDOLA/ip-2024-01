{
  "nbformat": 4,
  "nbformat_minor": 0,
  "metadata": {
    "colab": {
      "provenance": []
    },
    "kernelspec": {
      "name": "python3",
      "display_name": "Python 3"
    },
    "language_info": {
      "name": "python"
    }
  },
  "cells": [
    {
      "cell_type": "markdown",
      "source": [
        "Questão 1\n",
        "\n",
        "Leia: Nota inteira 1, Nota inteira 2, Nota inteira 3\n",
        "\n",
        "Defina: x = (Nota inteira 1 + Nota inteira 2 + Nota inteira 3) / Quantidade de Notas\n",
        "\n",
        "se x >= 6,00 imprima: \"Aprovado !\"\n",
        "\n",
        "Imprima: x em números inteiros\n",
        "\n",
        "senão\n",
        "\n",
        "se x < 6,00 imprima: \"Reprovado\"\n",
        "\n",
        "Imprima: x em números inteiros\n"
      ],
      "metadata": {
        "id": "LG4Ouw7ALseb"
      }
    },
    {
      "cell_type": "markdown",
      "source": [],
      "metadata": {
        "id": "mq5YuIcHLnsM"
      }
    },
    {
      "cell_type": "markdown",
      "source": [
        "Questão 2\n",
        "\n",
        "Imprima: Quantidade de casos\n",
        "\n",
        "Iprima:\n",
        "\n",
        "num = 1\n",
        "contador = 1\n",
        "\n",
        "Função 1 =\n",
        "\n",
        "Leia: Publico Total do caso\n",
        "\n",
        "Defina: Público Total do caso =\n",
        "\n",
        "Imprima: Público Total do caso em números inteiros\n",
        "\n",
        "\n",
        "Leia: Número de pessoas por categoria 'Popular'\n",
        "\n",
        "Defina: Número de pessoas por categoria 'popular' = p\n",
        "\n",
        "Porcentagem de pessoas na categoria popular = P/T*100\n",
        "\n",
        "\n",
        "Leia: Número de pessoas por categoria 'Geral'\n",
        "\n",
        "Defina: Número de pessoas por categoria 'Geral' = G\n",
        "\n",
        "Porcentagem de pessoas na categoria Geral = G/T*100\n",
        "\n",
        "\n",
        "Leia: Número de pessoas por categoria 'Arquibancada'\n",
        "\n",
        "Defina: Número de pessoas por categoria 'Arquibancada' = A\n",
        "\n",
        "Porcentagem de pessoas na categoria popular = A/T*100\n",
        "\n",
        "\n",
        "Leia: Número de pessoas por categoria 'Cadeiras'\n",
        "\n",
        "Defina: Número de pessoas por categoria 'Cadeiras' = C\n",
        "\n",
        "Porcentagem de pessoas na categoria popular = C/T*100\n",
        "\n",
        "Números inteiros: (P * 1,00)+(G * 5,00)+(A * 10,00)+(C * 20,00)= TT\n",
        "\n",
        "\n",
        "while (contador <= 3):\n",
        "   print(contador, \"A RENDA DO JOGO N.num E= TT\")\n",
        "    contador += 1 num += 1\n",
        "\n",
        "\n",
        "\n",
        "\n"
      ],
      "metadata": {
        "id": "9DQyr42XL1Tb"
      }
    },
    {
      "cell_type": "markdown",
      "source": [
        "Questão 3\n",
        "\n",
        "Print = ('Escolha três números naturais de um à dez!')\n",
        "\n",
        "Input = (N1, N2 e N3)\n",
        "\n",
        "if (N1) (N2) (N3) >=10 print ('digito inválido')\n",
        "\n",
        "\n",
        "Leia ('N1 + N2 + N3') = N4\n",
        "\n",
        "Print = int(N4)\n",
        "\n",
        "Print = int(N4 * N4)\n",
        "\n",
        "\n"
      ],
      "metadata": {
        "id": "JxRzuq9KNbw6"
      }
    },
    {
      "cell_type": "markdown",
      "source": [
        "Questão 4\n",
        "\n",
        "Leia: int(valor do salário mínimo)\n",
        "\n",
        "Defina: valor do salário mínimo = SA\n",
        "\n",
        "Leia: int(Consumo em Kw)\n",
        "\n",
        "Defina: Consumo em Kw = CO\n",
        "\n",
        "Defina: int(SA * 0,007 = CK)\n",
        "\n",
        "Defina: int(CO * CK = CC)\n",
        "\n",
        "Defina: int(CC - CC/10 = CD)\n",
        "\n",
        "print ('Custo por kW =' CK)\n",
        "\n",
        "print ('Custo do consumo =' CC)\n",
        "\n",
        "print ('Custo com desconto =' CD)"
      ],
      "metadata": {
        "id": "S0VLsL6Bqu-n"
      }
    },
    {
      "cell_type": "markdown",
      "source": [
        "Questão 5\n",
        "\n",
        "Leia: Número da conta\n",
        "\n",
        "Defina: Número da conta = number\n",
        "\n",
        "Leia: Tipo de consumidor\n",
        "\n",
        "Leia: Consumo de água por metros cúbicos\n",
        "\n",
        "Defina: Consumo de água por metros cúbicos = float(MC)\n",
        "\n",
        "function 1 =\n",
        "(5+0,05*MC)=RE\n",
        "\n",
        "function 2 =\n",
        "if: MC=<80 int(MC*500)=CO\n",
        "else\n",
        "int(80*500+(MC-80)*0,25)=CO\n",
        "\n",
        "function 3 =\n",
        "if: MC=<100 int(MC*800)=IN\n",
        "else\n",
        "800*100+((MC-100)*0,04)=IN\n",
        "\n",
        "If Tipo de consumindor = R function 1\n",
        "Print ('CONTA = number')\n",
        "Print('VALOR DA CONTA ='RE)\n",
        "\n",
        "else\n",
        "\n",
        "if: Tipo de consumidor = C function 2\n",
        "Print ('CONTA = number')\n",
        "Print('VALOR DA CONTA ='CO )\n",
        "\n",
        "else\n",
        "\n",
        "if: tipo de consumidor = I function 3\n",
        "Print ('CONTA = number')\n",
        "Print('VALOR DA CONTA ='IN)\n",
        "\n",
        "\n",
        "\n",
        "\n",
        "\n"
      ],
      "metadata": {
        "id": "8LXsmLvNPiSx"
      }
    },
    {
      "cell_type": "markdown",
      "source": [
        "Questão 6\n",
        "\n",
        "\n",
        "Leia: Quantidade de números colocados = N\n",
        "\n",
        "Ordene: As temperaturas colocadas\n",
        "\n",
        "Temperatura = int(F)\n",
        "\n",
        "\n",
        "R=1\n",
        "\n",
        "While R=<N\n",
        "\n",
        "float((5*(F-32))/9)=C\n",
        "\n",
        "print (F 'FAHRENHEIT EQUIVALE A' C 'CELSIUS')  \n",
        "\n",
        "int(R+1)\n",
        "\n",
        "\n"
      ],
      "metadata": {
        "id": "cE6bssw6bk1M"
      }
    },
    {
      "cell_type": "markdown",
      "source": [
        "Questão 7\n",
        "\n",
        "Leia: float(Temperatura em Fahrenheit)\n",
        "\n",
        "Defina: Temperatura em Fahrenheit = F\n",
        "\n",
        "Leia: float(Quantidade de chuva)\n",
        "\n",
        "Defina: Quantidade de chuva = R\n",
        "\n",
        "float((5*(F-32))/9) = CEL\n",
        "\n",
        "float (R/25,4) = MM\n",
        "\n",
        "print('O VALOR EM CELSIUS =' CEL)\n",
        "print('A QUANTIDADE DE CHUVA E =' MM)\n"
      ],
      "metadata": {
        "id": "Rf5JR8mkpxWz"
      }
    },
    {
      "cell_type": "markdown",
      "source": [
        "Questão 8\n",
        "\n",
        "Leia: Raio\n",
        "\n",
        "Defina: Raio = float(R)\n",
        "\n",
        "Leia: Altura\n",
        "\n",
        "Defina: Altura = float(H)\n",
        "\n",
        "float(2 * 3,14159 * R * H)=AL\n",
        "float(3,14159 * R ** 2)=AC\n",
        "float(2 * AC + AL)=AT\n",
        "int(AT*100)= MC\n",
        "\n",
        "print('O VALOR DO CUSTO E =' MC)\n",
        "\n"
      ],
      "metadata": {
        "id": "ZLNtJyXmrrnB"
      }
    },
    {
      "cell_type": "markdown",
      "source": [
        "Questão 9\n",
        "\n",
        "Leia: A\n",
        "Leia: B\n",
        "Leia: C\n",
        "\n",
        "float(B ** 2 - 4 * A * C)= DELTA\n",
        "\n",
        "print('O VALOR DE DELTA E=' DELTA)"
      ],
      "metadata": {
        "id": "PPOMJW4Yudym"
      }
    },
    {
      "cell_type": "markdown",
      "source": [
        "Questão 10\n",
        "\n",
        "Leia: N1, N2, N3, N4\n",
        "Organize: N1, N2, N3, N4\n",
        "\n",
        "int(N1 * N4)= C1\n",
        "int(N2 * N3)= C2\n",
        "int(C1 - C2)= C3\n",
        "\n",
        "print('O VALOR DA DETERMINANTE E=' C3)\n"
      ],
      "metadata": {
        "id": "SN_EXoqCxSHq"
      }
    },
    {
      "cell_type": "markdown",
      "source": [
        "Questão 11\n",
        "\n",
        "Leia: número escolhido\n",
        "Defina: número escolhido = N\n",
        "\n",
        "if (N%3)=0 and (N%5)=0\n",
        "\n",
        "print ('O NUMERO E DIVISIVEL')\n",
        "\n",
        "else\n",
        "\n",
        "print ('O NUMERO NÃO E DIVISIVEL)\n"
      ],
      "metadata": {
        "id": "TfL5sDmMy5qf"
      }
    },
    {
      "cell_type": "markdown",
      "source": [
        "Questão 12\n",
        "\n",
        "Leia: Quantidade de horas\n",
        "Defina: Quantidade de horas = H\n",
        "\n",
        "int(H/3)= IN\n",
        "int(H%3)= RE\n",
        "int(IN*10)= V1\n",
        "int(RE*5)= V2\n",
        "int(V1 + V2)= V3\n",
        "\n",
        "print('VALOR A PAGAR E='V3)\n"
      ],
      "metadata": {
        "id": "jkS0HuOFz6wS"
      }
    },
    {
      "cell_type": "markdown",
      "source": [
        "Questão 13\n",
        "\n",
        "Leia: nota\n",
        "Defina: nota = int(N)\n",
        "\n",
        "if int(9,0<N=<10)\n",
        "print ('NOTA' = N 'CONCEITO = A')\n",
        "\n",
        "else\n",
        "\n",
        "if int(7,5<N<9,0)\n",
        "print ('NOTA' = N 'CONCEITO = B')\n",
        "\n",
        "else\n",
        "\n",
        "if int(6<N<7,5)\n",
        "print ('NOTA' = N 'CONCEITO = C')\n",
        "\n",
        "else\n",
        "\n",
        "if int(0<N<6)\n",
        "print ('NOTA' = N 'CONCEITO = D')\n"
      ],
      "metadata": {
        "id": "jzVxh3fA2Cup"
      }
    },
    {
      "cell_type": "markdown",
      "source": [
        "Questão 14\n",
        "\n",
        "Leia: Aresta\n",
        "Defina: Aresta = int(A)\n",
        "\n",
        "Leia: Altura\n",
        "Defina: Altura = int(H)\n",
        "\n",
        "float((3*A**2*3**1/2)/2)= AB\n",
        "float(1/3*AB*H) = V\n",
        "\n",
        "print('O VOLUME DA PIRAMIDE E=' V 'METROS CUBICOS')\n",
        "\n",
        "\n",
        "\n"
      ],
      "metadata": {
        "id": "OQsP6yBe5O-a"
      }
    },
    {
      "cell_type": "markdown",
      "source": [
        "Questão 15\n",
        "\n",
        "Leia: Número inteiro\n",
        "\n",
        "Defina Número inteiro = int(N)\n",
        "\n",
        "int(i)\n",
        "\n",
        "if N >= 5 e N <=2000\n",
        "\n",
        "for i de 1 to N\n",
        "\n",
        "do\n",
        "\n",
        "if int(i % 2 = 0)\n",
        "\n",
        "print(i,^2 = \", i * i)\n",
        "\n",
        "else\n",
        "\n",
        "print(\"O número\", N, \"é impar\")\n",
        "\n",
        "for i de 1 ate N\n",
        "\n",
        "do\n",
        "\n",
        "if i % 2 = 0  \n",
        "\n",
        "print(\"O quadrado de \", i, \" é, i*i)\n",
        "\n",
        "if i % 2 <> 0\n",
        "\n",
        "print(\"O número não é par\")\n",
        "\n"
      ],
      "metadata": {
        "id": "7s_dsfz5OT6e"
      }
    },
    {
      "cell_type": "markdown",
      "source": [
        "Questão 16\n",
        "\n",
        "Leia: int(Salario)\n",
        "\n",
        "Defina: Salario = S\n",
        "\n",
        "if S=<300\n",
        "\n",
        "int(S+(S/2)) = R\n",
        "\n",
        "else\n",
        "\n",
        "float(S+(S*0,3)) = R\n",
        "\n",
        "print(’SALARIO COM REAJUSTE =’ R)"
      ],
      "metadata": {
        "id": "dHcl3dWaNwEn"
      }
    },
    {
      "cell_type": "markdown",
      "source": [
        "Questão 17\n",
        "\n",
        "Leia x,y\n",
        "\n",
        "int(x,y,i)\n",
        "\n",
        "if x % 2 = 0\n",
        "\n",
        "for i from 0 to y-1\n",
        "\n",
        "print(\" \"x +2 * i,\" \")\n",
        "\n",
        "else\n",
        "\n",
        "print(\"O PRIMEIRO NUMERO NAO E PAR\")"
      ],
      "metadata": {
        "id": "Yx2v4RQVKOxZ"
      }
    },
    {
      "cell_type": "markdown",
      "source": [
        "Questão 18\n",
        "\n",
        "Leia: N1, N2 N3\n",
        "\n",
        "int(N1+(N3-1)*N2)=N4\n",
        "int((N4-N1)%N2)=N5"
      ],
      "metadata": {
        "id": "9CsBoqlSVcRG"
      }
    },
    {
      "cell_type": "markdown",
      "source": [
        "Questão 19 *não consegui*"
      ],
      "metadata": {
        "id": "IWkxDlRKcP-r"
      }
    },
    {
      "cell_type": "markdown",
      "source": [
        "Questão 20\n",
        "\n",
        "Laia: Horas, Minutos, Segundos\n",
        "\n",
        "Defina: Horas= H\n",
        "Defina: Minutos= M\n",
        "Defina: Segundos= S\n",
        "\n",
        "int(H*3600)= HS\n",
        "int(M*60)= MS\n",
        "int(MS+HS+S)= SS\n",
        "print('O TEMPO EM SEGUNDOS E='SS)"
      ],
      "metadata": {
        "id": "mncNAdKyYLT8"
      }
    },
    {
      "cell_type": "markdown",
      "source": [
        "Problema 1 *Não consegui*\n",
        "\n"
      ],
      "metadata": {
        "id": "nU_fYmbdGsNP"
      }
    },
    {
      "cell_type": "markdown",
      "source": [
        "Problema 2\n",
        "\n",
        "Leia: (a,b,c)\n",
        "if(a=b e b=c e a=c) print('Todos os números são iguais')\n",
        "if (a>b e a>c) print(a'Maior Número')\n",
        "else\n",
        "if (b>a e b>c) print(b'Maior Número')\n",
        "else\n",
        "if (c>b e c>a) print(c'Maior Número')"
      ],
      "metadata": {
        "id": "u31W_yuPHR_m"
      }
    },
    {
      "cell_type": "markdown",
      "source": [
        "Problema 3\n",
        "\n",
        "Leia: valor da mercadoria\n",
        "\n",
        "Defina: valor da mercadoria = V\n",
        "\n",
        "Leia: valor do desconto\n",
        "\n",
        "Defina: valor do desconto = D\n",
        "\n",
        "int(V*D)= S\n",
        "\n",
        "int(V-S)= O\n",
        "\n",
        "print(’O VALOR DO DESCONTO É=’S)\n",
        "\n",
        "print(’O VALOR DA MERCADORIA COM DESCONTO É=’ O)\n"
      ],
      "metadata": {
        "id": "cKrOC0_pHTt1"
      }
    }
  ]
}